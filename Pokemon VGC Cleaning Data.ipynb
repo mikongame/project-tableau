{
 "cells": [
  {
   "cell_type": "code",
   "execution_count": 1,
   "metadata": {
    "ExecuteTime": {
     "end_time": "2020-04-14T14:47:25.886993Z",
     "start_time": "2020-04-14T14:47:25.429157Z"
    }
   },
   "outputs": [],
   "source": [
    "import numpy as np\n",
    "import pandas as pd\n",
    "import re\n",
    "import collections\n",
    "pd.set_option('display.max_rows', None)"
   ]
  },
  {
   "cell_type": "code",
   "execution_count": 2,
   "metadata": {
    "ExecuteTime": {
     "end_time": "2020-04-14T14:47:25.902951Z",
     "start_time": "2020-04-14T14:47:25.887953Z"
    }
   },
   "outputs": [],
   "source": [
    "top_teams = pd.read_csv(\"./data/vgc_results.csv\")"
   ]
  },
  {
   "cell_type": "code",
   "execution_count": 3,
   "metadata": {
    "ExecuteTime": {
     "end_time": "2020-04-14T14:47:26.005227Z",
     "start_time": "2020-04-14T14:47:25.904908Z"
    }
   },
   "outputs": [
    {
     "data": {
      "text/html": [
       "<div>\n",
       "<style scoped>\n",
       "    .dataframe tbody tr th:only-of-type {\n",
       "        vertical-align: middle;\n",
       "    }\n",
       "\n",
       "    .dataframe tbody tr th {\n",
       "        vertical-align: top;\n",
       "    }\n",
       "\n",
       "    .dataframe thead th {\n",
       "        text-align: right;\n",
       "    }\n",
       "</style>\n",
       "<table border=\"1\" class=\"dataframe\">\n",
       "  <thead>\n",
       "    <tr style=\"text-align: right;\">\n",
       "      <th></th>\n",
       "      <th>links_Name_name</th>\n",
       "      <th>links_Mov1_Name</th>\n",
       "      <th>links_Mov2_Mov2</th>\n",
       "      <th>links_Mov3_Mov3</th>\n",
       "      <th>links_Mov4_Mov4</th>\n",
       "      <th>links_Nature_Nature</th>\n",
       "      <th>links_Held_Item_Held_Item</th>\n",
       "      <th>links_Ability_Ability</th>\n",
       "    </tr>\n",
       "  </thead>\n",
       "  <tbody>\n",
       "    <tr>\n",
       "      <th>0</th>\n",
       "      <td>Pachirisu</td>\n",
       "      <td>NaN</td>\n",
       "      <td>NaN</td>\n",
       "      <td>NaN</td>\n",
       "      <td>NaN</td>\n",
       "      <td>NaN</td>\n",
       "      <td>NaN</td>\n",
       "      <td>NaN</td>\n",
       "    </tr>\n",
       "    <tr>\n",
       "      <th>1</th>\n",
       "      <td>Gothitelle</td>\n",
       "      <td>NaN</td>\n",
       "      <td>NaN</td>\n",
       "      <td>NaN</td>\n",
       "      <td>NaN</td>\n",
       "      <td>NaN</td>\n",
       "      <td>NaN</td>\n",
       "      <td>NaN</td>\n",
       "    </tr>\n",
       "    <tr>\n",
       "      <th>2</th>\n",
       "      <td>Gardevoir</td>\n",
       "      <td>NaN</td>\n",
       "      <td>NaN</td>\n",
       "      <td>NaN</td>\n",
       "      <td>NaN</td>\n",
       "      <td>NaN</td>\n",
       "      <td>NaN</td>\n",
       "      <td>NaN</td>\n",
       "    </tr>\n",
       "    <tr>\n",
       "      <th>3</th>\n",
       "      <td>Gyarados</td>\n",
       "      <td>NaN</td>\n",
       "      <td>NaN</td>\n",
       "      <td>NaN</td>\n",
       "      <td>NaN</td>\n",
       "      <td>NaN</td>\n",
       "      <td>NaN</td>\n",
       "      <td>NaN</td>\n",
       "    </tr>\n",
       "    <tr>\n",
       "      <th>4</th>\n",
       "      <td>Talonflame</td>\n",
       "      <td>NaN</td>\n",
       "      <td>NaN</td>\n",
       "      <td>NaN</td>\n",
       "      <td>NaN</td>\n",
       "      <td>NaN</td>\n",
       "      <td>NaN</td>\n",
       "      <td>NaN</td>\n",
       "    </tr>\n",
       "  </tbody>\n",
       "</table>\n",
       "</div>"
      ],
      "text/plain": [
       "  links_Name_name links_Mov1_Name links_Mov2_Mov2 links_Mov3_Mov3  \\\n",
       "0       Pachirisu             NaN             NaN             NaN   \n",
       "1      Gothitelle             NaN             NaN             NaN   \n",
       "2       Gardevoir             NaN             NaN             NaN   \n",
       "3        Gyarados             NaN             NaN             NaN   \n",
       "4      Talonflame             NaN             NaN             NaN   \n",
       "\n",
       "  links_Mov4_Mov4 links_Nature_Nature links_Held_Item_Held_Item  \\\n",
       "0             NaN                 NaN                       NaN   \n",
       "1             NaN                 NaN                       NaN   \n",
       "2             NaN                 NaN                       NaN   \n",
       "3             NaN                 NaN                       NaN   \n",
       "4             NaN                 NaN                       NaN   \n",
       "\n",
       "  links_Ability_Ability  \n",
       "0                   NaN  \n",
       "1                   NaN  \n",
       "2                   NaN  \n",
       "3                   NaN  \n",
       "4                   NaN  "
      ]
     },
     "execution_count": 3,
     "metadata": {},
     "output_type": "execute_result"
    }
   ],
   "source": [
    "top_teams.head()"
   ]
  },
  {
   "cell_type": "code",
   "execution_count": 4,
   "metadata": {
    "ExecuteTime": {
     "end_time": "2020-04-14T14:47:26.116992Z",
     "start_time": "2020-04-14T14:47:26.007195Z"
    }
   },
   "outputs": [
    {
     "data": {
      "text/html": [
       "<div>\n",
       "<style scoped>\n",
       "    .dataframe tbody tr th:only-of-type {\n",
       "        vertical-align: middle;\n",
       "    }\n",
       "\n",
       "    .dataframe tbody tr th {\n",
       "        vertical-align: top;\n",
       "    }\n",
       "\n",
       "    .dataframe thead th {\n",
       "        text-align: right;\n",
       "    }\n",
       "</style>\n",
       "<table border=\"1\" class=\"dataframe\">\n",
       "  <thead>\n",
       "    <tr style=\"text-align: right;\">\n",
       "      <th></th>\n",
       "      <th>links_Name_name</th>\n",
       "      <th>links_Mov1_Name</th>\n",
       "      <th>links_Mov2_Mov2</th>\n",
       "      <th>links_Mov3_Mov3</th>\n",
       "      <th>links_Mov4_Mov4</th>\n",
       "      <th>links_Nature_Nature</th>\n",
       "      <th>links_Held_Item_Held_Item</th>\n",
       "      <th>links_Ability_Ability</th>\n",
       "    </tr>\n",
       "  </thead>\n",
       "  <tbody>\n",
       "    <tr>\n",
       "      <th>0</th>\n",
       "      <td>Pachirisu</td>\n",
       "      <td>Nuzzle</td>\n",
       "      <td>Follow Me</td>\n",
       "      <td>Super Fang</td>\n",
       "      <td>Protect</td>\n",
       "      <td>Impish</td>\n",
       "      <td>Sitrus Berry</td>\n",
       "      <td>Volt Absorb</td>\n",
       "    </tr>\n",
       "    <tr>\n",
       "      <th>1</th>\n",
       "      <td>Gothitelle</td>\n",
       "      <td>Psyshock</td>\n",
       "      <td>Thunder Wave</td>\n",
       "      <td>Tickle</td>\n",
       "      <td>Protect</td>\n",
       "      <td>Calm</td>\n",
       "      <td>Leftovers</td>\n",
       "      <td>Shadow Tag</td>\n",
       "    </tr>\n",
       "    <tr>\n",
       "      <th>2</th>\n",
       "      <td>Gardevoir</td>\n",
       "      <td>Dazzling Gleam</td>\n",
       "      <td>Psychic</td>\n",
       "      <td>Moonblast</td>\n",
       "      <td>Swagger</td>\n",
       "      <td>Timid</td>\n",
       "      <td>Choice Scarf</td>\n",
       "      <td>Telepathy</td>\n",
       "    </tr>\n",
       "    <tr>\n",
       "      <th>3</th>\n",
       "      <td>Gyarados</td>\n",
       "      <td>Dragon Dance</td>\n",
       "      <td>Waterfall</td>\n",
       "      <td>Earthquake</td>\n",
       "      <td>Protect</td>\n",
       "      <td>Adamant</td>\n",
       "      <td>Gyaradosite</td>\n",
       "      <td>Intimidate</td>\n",
       "    </tr>\n",
       "    <tr>\n",
       "      <th>4</th>\n",
       "      <td>Talonflame</td>\n",
       "      <td>Brave Bird</td>\n",
       "      <td>Overheat</td>\n",
       "      <td>Taunt</td>\n",
       "      <td>Quick Guard</td>\n",
       "      <td>Naive</td>\n",
       "      <td>Life Orb</td>\n",
       "      <td>Gale Wings</td>\n",
       "    </tr>\n",
       "  </tbody>\n",
       "</table>\n",
       "</div>"
      ],
      "text/plain": [
       "  links_Name_name links_Mov1_Name links_Mov2_Mov2 links_Mov3_Mov3  \\\n",
       "0       Pachirisu          Nuzzle       Follow Me      Super Fang   \n",
       "1      Gothitelle        Psyshock    Thunder Wave          Tickle   \n",
       "2       Gardevoir  Dazzling Gleam         Psychic       Moonblast   \n",
       "3        Gyarados    Dragon Dance       Waterfall      Earthquake   \n",
       "4      Talonflame      Brave Bird        Overheat           Taunt   \n",
       "\n",
       "  links_Mov4_Mov4 links_Nature_Nature links_Held_Item_Held_Item  \\\n",
       "0         Protect              Impish              Sitrus Berry   \n",
       "1         Protect                Calm                 Leftovers   \n",
       "2         Swagger               Timid              Choice Scarf   \n",
       "3         Protect             Adamant               Gyaradosite   \n",
       "4     Quick Guard               Naive                  Life Orb   \n",
       "\n",
       "  links_Ability_Ability  \n",
       "0           Volt Absorb  \n",
       "1            Shadow Tag  \n",
       "2             Telepathy  \n",
       "3            Intimidate  \n",
       "4            Gale Wings  "
      ]
     },
     "execution_count": 4,
     "metadata": {},
     "output_type": "execute_result"
    }
   ],
   "source": [
    "top_teams_structured = top_teams.apply(lambda x: pd.Series(x.dropna().values))\n",
    "top_teams_structured.head()"
   ]
  },
  {
   "cell_type": "code",
   "execution_count": 5,
   "metadata": {
    "ExecuteTime": {
     "end_time": "2020-04-14T14:47:26.184821Z",
     "start_time": "2020-04-14T14:47:26.118954Z"
    }
   },
   "outputs": [],
   "source": [
    "top_teams_structured.index = np.arange(1, len(top_teams_structured)+1)"
   ]
  },
  {
   "cell_type": "code",
   "execution_count": 6,
   "metadata": {
    "ExecuteTime": {
     "end_time": "2020-04-14T14:47:26.275344Z",
     "start_time": "2020-04-14T14:47:26.187809Z"
    }
   },
   "outputs": [],
   "source": [
    "top_teams_structured[\"Team\"] = np.where(top_teams_structured.index % 6 == 0, top_teams_structured.index, np.nan)"
   ]
  },
  {
   "cell_type": "code",
   "execution_count": 7,
   "metadata": {
    "ExecuteTime": {
     "end_time": "2020-04-14T14:47:26.342503Z",
     "start_time": "2020-04-14T14:47:26.277344Z"
    }
   },
   "outputs": [],
   "source": [
    "top_teams_structured[\"Team\"] = top_teams_structured.Team / 6"
   ]
  },
  {
   "cell_type": "code",
   "execution_count": 8,
   "metadata": {
    "ExecuteTime": {
     "end_time": "2020-04-14T14:47:26.452970Z",
     "start_time": "2020-04-14T14:47:26.345495Z"
    }
   },
   "outputs": [
    {
     "data": {
      "text/html": [
       "<div>\n",
       "<style scoped>\n",
       "    .dataframe tbody tr th:only-of-type {\n",
       "        vertical-align: middle;\n",
       "    }\n",
       "\n",
       "    .dataframe tbody tr th {\n",
       "        vertical-align: top;\n",
       "    }\n",
       "\n",
       "    .dataframe thead th {\n",
       "        text-align: right;\n",
       "    }\n",
       "</style>\n",
       "<table border=\"1\" class=\"dataframe\">\n",
       "  <thead>\n",
       "    <tr style=\"text-align: right;\">\n",
       "      <th></th>\n",
       "      <th>links_Name_name</th>\n",
       "      <th>links_Mov1_Name</th>\n",
       "      <th>links_Mov2_Mov2</th>\n",
       "      <th>links_Mov3_Mov3</th>\n",
       "      <th>links_Mov4_Mov4</th>\n",
       "      <th>links_Nature_Nature</th>\n",
       "      <th>links_Held_Item_Held_Item</th>\n",
       "      <th>links_Ability_Ability</th>\n",
       "      <th>Team</th>\n",
       "    </tr>\n",
       "  </thead>\n",
       "  <tbody>\n",
       "    <tr>\n",
       "      <th>1</th>\n",
       "      <td>Pachirisu</td>\n",
       "      <td>Nuzzle</td>\n",
       "      <td>Follow Me</td>\n",
       "      <td>Super Fang</td>\n",
       "      <td>Protect</td>\n",
       "      <td>Impish</td>\n",
       "      <td>Sitrus Berry</td>\n",
       "      <td>Volt Absorb</td>\n",
       "      <td>1.0</td>\n",
       "    </tr>\n",
       "    <tr>\n",
       "      <th>2</th>\n",
       "      <td>Gothitelle</td>\n",
       "      <td>Psyshock</td>\n",
       "      <td>Thunder Wave</td>\n",
       "      <td>Tickle</td>\n",
       "      <td>Protect</td>\n",
       "      <td>Calm</td>\n",
       "      <td>Leftovers</td>\n",
       "      <td>Shadow Tag</td>\n",
       "      <td>1.0</td>\n",
       "    </tr>\n",
       "    <tr>\n",
       "      <th>3</th>\n",
       "      <td>Gardevoir</td>\n",
       "      <td>Dazzling Gleam</td>\n",
       "      <td>Psychic</td>\n",
       "      <td>Moonblast</td>\n",
       "      <td>Swagger</td>\n",
       "      <td>Timid</td>\n",
       "      <td>Choice Scarf</td>\n",
       "      <td>Telepathy</td>\n",
       "      <td>1.0</td>\n",
       "    </tr>\n",
       "    <tr>\n",
       "      <th>4</th>\n",
       "      <td>Gyarados</td>\n",
       "      <td>Dragon Dance</td>\n",
       "      <td>Waterfall</td>\n",
       "      <td>Earthquake</td>\n",
       "      <td>Protect</td>\n",
       "      <td>Adamant</td>\n",
       "      <td>Gyaradosite</td>\n",
       "      <td>Intimidate</td>\n",
       "      <td>1.0</td>\n",
       "    </tr>\n",
       "    <tr>\n",
       "      <th>5</th>\n",
       "      <td>Talonflame</td>\n",
       "      <td>Brave Bird</td>\n",
       "      <td>Overheat</td>\n",
       "      <td>Taunt</td>\n",
       "      <td>Quick Guard</td>\n",
       "      <td>Naive</td>\n",
       "      <td>Life Orb</td>\n",
       "      <td>Gale Wings</td>\n",
       "      <td>1.0</td>\n",
       "    </tr>\n",
       "  </tbody>\n",
       "</table>\n",
       "</div>"
      ],
      "text/plain": [
       "  links_Name_name links_Mov1_Name links_Mov2_Mov2 links_Mov3_Mov3  \\\n",
       "1       Pachirisu          Nuzzle       Follow Me      Super Fang   \n",
       "2      Gothitelle        Psyshock    Thunder Wave          Tickle   \n",
       "3       Gardevoir  Dazzling Gleam         Psychic       Moonblast   \n",
       "4        Gyarados    Dragon Dance       Waterfall      Earthquake   \n",
       "5      Talonflame      Brave Bird        Overheat           Taunt   \n",
       "\n",
       "  links_Mov4_Mov4 links_Nature_Nature links_Held_Item_Held_Item  \\\n",
       "1         Protect              Impish              Sitrus Berry   \n",
       "2         Protect                Calm                 Leftovers   \n",
       "3         Swagger               Timid              Choice Scarf   \n",
       "4         Protect             Adamant               Gyaradosite   \n",
       "5     Quick Guard               Naive                  Life Orb   \n",
       "\n",
       "  links_Ability_Ability  Team  \n",
       "1           Volt Absorb   1.0  \n",
       "2            Shadow Tag   1.0  \n",
       "3             Telepathy   1.0  \n",
       "4            Intimidate   1.0  \n",
       "5            Gale Wings   1.0  "
      ]
     },
     "execution_count": 8,
     "metadata": {},
     "output_type": "execute_result"
    }
   ],
   "source": [
    "top_teams_filled = top_teams_structured.fillna(method=\"bfill\")\n",
    "top_teams_filled.head()"
   ]
  },
  {
   "cell_type": "code",
   "execution_count": 9,
   "metadata": {
    "ExecuteTime": {
     "end_time": "2020-04-14T14:47:26.534611Z",
     "start_time": "2020-04-14T14:47:26.454965Z"
    }
   },
   "outputs": [],
   "source": [
    "top_teams_filled.columns = [\"name\",\"move1\",\"move2\",\"move3\",\"move4\",\"nature\",\"held_item\",\"ability\",\"team\"]"
   ]
  },
  {
   "cell_type": "code",
   "execution_count": 10,
   "metadata": {
    "ExecuteTime": {
     "end_time": "2020-04-14T14:47:26.625927Z",
     "start_time": "2020-04-14T14:47:26.535610Z"
    }
   },
   "outputs": [],
   "source": [
    "top_teams_clean = top_teams_filled[[\"team\",\"name\",\"move1\",\"move2\",\"move3\",\"move4\",\"nature\",\"held_item\",\"ability\"]]"
   ]
  },
  {
   "cell_type": "code",
   "execution_count": 11,
   "metadata": {
    "ExecuteTime": {
     "end_time": "2020-04-14T14:47:26.723676Z",
     "start_time": "2020-04-14T14:47:26.628920Z"
    }
   },
   "outputs": [
    {
     "data": {
      "text/html": [
       "<div>\n",
       "<style scoped>\n",
       "    .dataframe tbody tr th:only-of-type {\n",
       "        vertical-align: middle;\n",
       "    }\n",
       "\n",
       "    .dataframe tbody tr th {\n",
       "        vertical-align: top;\n",
       "    }\n",
       "\n",
       "    .dataframe thead th {\n",
       "        text-align: right;\n",
       "    }\n",
       "</style>\n",
       "<table border=\"1\" class=\"dataframe\">\n",
       "  <thead>\n",
       "    <tr style=\"text-align: right;\">\n",
       "      <th></th>\n",
       "      <th>team</th>\n",
       "      <th>name</th>\n",
       "      <th>move1</th>\n",
       "      <th>move2</th>\n",
       "      <th>move3</th>\n",
       "      <th>move4</th>\n",
       "      <th>nature</th>\n",
       "      <th>held_item</th>\n",
       "      <th>ability</th>\n",
       "    </tr>\n",
       "  </thead>\n",
       "  <tbody>\n",
       "    <tr>\n",
       "      <th>1</th>\n",
       "      <td>1.0</td>\n",
       "      <td>Pachirisu</td>\n",
       "      <td>Nuzzle</td>\n",
       "      <td>Follow Me</td>\n",
       "      <td>Super Fang</td>\n",
       "      <td>Protect</td>\n",
       "      <td>Impish</td>\n",
       "      <td>Sitrus Berry</td>\n",
       "      <td>Volt Absorb</td>\n",
       "    </tr>\n",
       "    <tr>\n",
       "      <th>2</th>\n",
       "      <td>1.0</td>\n",
       "      <td>Gothitelle</td>\n",
       "      <td>Psyshock</td>\n",
       "      <td>Thunder Wave</td>\n",
       "      <td>Tickle</td>\n",
       "      <td>Protect</td>\n",
       "      <td>Calm</td>\n",
       "      <td>Leftovers</td>\n",
       "      <td>Shadow Tag</td>\n",
       "    </tr>\n",
       "    <tr>\n",
       "      <th>3</th>\n",
       "      <td>1.0</td>\n",
       "      <td>Gardevoir</td>\n",
       "      <td>Dazzling Gleam</td>\n",
       "      <td>Psychic</td>\n",
       "      <td>Moonblast</td>\n",
       "      <td>Swagger</td>\n",
       "      <td>Timid</td>\n",
       "      <td>Choice Scarf</td>\n",
       "      <td>Telepathy</td>\n",
       "    </tr>\n",
       "    <tr>\n",
       "      <th>4</th>\n",
       "      <td>1.0</td>\n",
       "      <td>Gyarados</td>\n",
       "      <td>Dragon Dance</td>\n",
       "      <td>Waterfall</td>\n",
       "      <td>Earthquake</td>\n",
       "      <td>Protect</td>\n",
       "      <td>Adamant</td>\n",
       "      <td>Gyaradosite</td>\n",
       "      <td>Intimidate</td>\n",
       "    </tr>\n",
       "    <tr>\n",
       "      <th>5</th>\n",
       "      <td>1.0</td>\n",
       "      <td>Talonflame</td>\n",
       "      <td>Brave Bird</td>\n",
       "      <td>Overheat</td>\n",
       "      <td>Taunt</td>\n",
       "      <td>Quick Guard</td>\n",
       "      <td>Naive</td>\n",
       "      <td>Life Orb</td>\n",
       "      <td>Gale Wings</td>\n",
       "    </tr>\n",
       "    <tr>\n",
       "      <th>6</th>\n",
       "      <td>1.0</td>\n",
       "      <td>Garchomp</td>\n",
       "      <td>Earthquake</td>\n",
       "      <td>Dragon Claw</td>\n",
       "      <td>Rock Slide</td>\n",
       "      <td>Protect</td>\n",
       "      <td>Jolly</td>\n",
       "      <td>Focus Sash</td>\n",
       "      <td>Rough Skin</td>\n",
       "    </tr>\n",
       "    <tr>\n",
       "      <th>7</th>\n",
       "      <td>2.0</td>\n",
       "      <td>Tyranitar</td>\n",
       "      <td>Rock Slide</td>\n",
       "      <td>Stone Edge</td>\n",
       "      <td>Crunch</td>\n",
       "      <td>Ice Punch</td>\n",
       "      <td>Jolly</td>\n",
       "      <td>Choice Scarf</td>\n",
       "      <td>Sand Stream</td>\n",
       "    </tr>\n",
       "    <tr>\n",
       "      <th>8</th>\n",
       "      <td>2.0</td>\n",
       "      <td>Charizard</td>\n",
       "      <td>Protect</td>\n",
       "      <td>Overheat</td>\n",
       "      <td>Heat Wave</td>\n",
       "      <td>Solar Beam</td>\n",
       "      <td>Modest</td>\n",
       "      <td>Charizardite Y</td>\n",
       "      <td>Blaze</td>\n",
       "    </tr>\n",
       "    <tr>\n",
       "      <th>9</th>\n",
       "      <td>2.0</td>\n",
       "      <td>Salamence</td>\n",
       "      <td>Protect</td>\n",
       "      <td>Draco Meteor</td>\n",
       "      <td>Fire Blast</td>\n",
       "      <td>Rock Tomb</td>\n",
       "      <td>Modest</td>\n",
       "      <td>Haban Berry</td>\n",
       "      <td>Intimidate</td>\n",
       "    </tr>\n",
       "    <tr>\n",
       "      <th>10</th>\n",
       "      <td>2.0</td>\n",
       "      <td>Garchomp</td>\n",
       "      <td>Protect</td>\n",
       "      <td>Dragon Claw</td>\n",
       "      <td>Rock Slide</td>\n",
       "      <td>Earthquake</td>\n",
       "      <td>Jolly</td>\n",
       "      <td>Life Orb</td>\n",
       "      <td>Rough Skin</td>\n",
       "    </tr>\n",
       "  </tbody>\n",
       "</table>\n",
       "</div>"
      ],
      "text/plain": [
       "    team        name           move1         move2       move3        move4  \\\n",
       "1    1.0   Pachirisu          Nuzzle     Follow Me  Super Fang      Protect   \n",
       "2    1.0  Gothitelle        Psyshock  Thunder Wave      Tickle      Protect   \n",
       "3    1.0   Gardevoir  Dazzling Gleam       Psychic   Moonblast      Swagger   \n",
       "4    1.0    Gyarados    Dragon Dance     Waterfall  Earthquake      Protect   \n",
       "5    1.0  Talonflame      Brave Bird      Overheat       Taunt  Quick Guard   \n",
       "6    1.0    Garchomp      Earthquake   Dragon Claw  Rock Slide      Protect   \n",
       "7    2.0   Tyranitar      Rock Slide    Stone Edge      Crunch    Ice Punch   \n",
       "8    2.0   Charizard         Protect      Overheat   Heat Wave   Solar Beam   \n",
       "9    2.0   Salamence         Protect  Draco Meteor  Fire Blast    Rock Tomb   \n",
       "10   2.0    Garchomp         Protect   Dragon Claw  Rock Slide   Earthquake   \n",
       "\n",
       "     nature       held_item      ability  \n",
       "1    Impish    Sitrus Berry  Volt Absorb  \n",
       "2      Calm       Leftovers   Shadow Tag  \n",
       "3     Timid    Choice Scarf    Telepathy  \n",
       "4   Adamant     Gyaradosite   Intimidate  \n",
       "5     Naive        Life Orb   Gale Wings  \n",
       "6     Jolly      Focus Sash   Rough Skin  \n",
       "7     Jolly    Choice Scarf  Sand Stream  \n",
       "8    Modest  Charizardite Y        Blaze  \n",
       "9    Modest     Haban Berry   Intimidate  \n",
       "10    Jolly        Life Orb   Rough Skin  "
      ]
     },
     "execution_count": 11,
     "metadata": {},
     "output_type": "execute_result"
    }
   ],
   "source": [
    "top_teams_clean.head(10)"
   ]
  },
  {
   "cell_type": "code",
   "execution_count": 12,
   "metadata": {
    "ExecuteTime": {
     "end_time": "2020-04-14T14:47:29.042247Z",
     "start_time": "2020-04-14T14:47:26.725638Z"
    }
   },
   "outputs": [],
   "source": [
    "for row in top_teams_clean[\"name\"]:\n",
    "    top_teams_clean[\"name\"]= top_teams_clean[\"name\"].replace(\"Rotom (Mow)\",\"Rotom\").astype(str)\n",
    "    top_teams_clean[\"name\"]= top_teams_clean[\"name\"].replace(\"Rotom (Heat)\",\"Rotom\").astype(str)\n",
    "    top_teams_clean[\"name\"]= top_teams_clean[\"name\"].replace(\"Rotom (Wash)\",\"Rotom\").astype(str)\n",
    "    top_teams_clean[\"name\"]= top_teams_clean[\"name\"].replace(\"Ninetails\",\"Ninetales\").astype(str)\n",
    "    top_teams_clean[\"name\"]= top_teams_clean[\"name\"].replace(\"Rotom (Mow)\",\"Rotom\").astype(str)"
   ]
  },
  {
   "cell_type": "code",
   "execution_count": 13,
   "metadata": {
    "ExecuteTime": {
     "end_time": "2020-04-14T14:47:29.056138Z",
     "start_time": "2020-04-14T14:47:29.044135Z"
    }
   },
   "outputs": [],
   "source": [
    "top_teams_clean.to_csv(\"./data/vgc_results_clean.csv\",index=False)"
   ]
  },
  {
   "cell_type": "markdown",
   "metadata": {},
   "source": [
    "From here there is code of things I wanted to do but couldn't do yet.\n",
    "\n",
    "I'd like to create a competitive movepool for each Pokémon species and also evaluate how common each move is. "
   ]
  },
  {
   "cell_type": "code",
   "execution_count": 14,
   "metadata": {
    "ExecuteTime": {
     "end_time": "2020-04-14T14:47:29.188817Z",
     "start_time": "2020-04-14T14:47:29.058098Z"
    }
   },
   "outputs": [],
   "source": [
    "top_teams_clean[\"moveset\"] = \"'\" + top_teams_clean.move1 + \"' '\" + top_teams_clean.move2 + \"' '\" + top_teams_clean.move3 + \"' '\" + top_teams_clean.move4 + \"'\" "
   ]
  },
  {
   "cell_type": "code",
   "execution_count": 15,
   "metadata": {
    "ExecuteTime": {
     "end_time": "2020-04-14T14:47:29.332737Z",
     "start_time": "2020-04-14T14:47:29.190811Z"
    }
   },
   "outputs": [
    {
     "data": {
      "text/html": [
       "<div>\n",
       "<style scoped>\n",
       "    .dataframe tbody tr th:only-of-type {\n",
       "        vertical-align: middle;\n",
       "    }\n",
       "\n",
       "    .dataframe tbody tr th {\n",
       "        vertical-align: top;\n",
       "    }\n",
       "\n",
       "    .dataframe thead th {\n",
       "        text-align: right;\n",
       "    }\n",
       "</style>\n",
       "<table border=\"1\" class=\"dataframe\">\n",
       "  <thead>\n",
       "    <tr style=\"text-align: right;\">\n",
       "      <th></th>\n",
       "      <th>team</th>\n",
       "      <th>name</th>\n",
       "      <th>move1</th>\n",
       "      <th>move2</th>\n",
       "      <th>move3</th>\n",
       "      <th>move4</th>\n",
       "      <th>nature</th>\n",
       "      <th>held_item</th>\n",
       "      <th>ability</th>\n",
       "      <th>moveset</th>\n",
       "    </tr>\n",
       "  </thead>\n",
       "  <tbody>\n",
       "    <tr>\n",
       "      <th>1</th>\n",
       "      <td>1.0</td>\n",
       "      <td>Pachirisu</td>\n",
       "      <td>Nuzzle</td>\n",
       "      <td>Follow Me</td>\n",
       "      <td>Super Fang</td>\n",
       "      <td>Protect</td>\n",
       "      <td>Impish</td>\n",
       "      <td>Sitrus Berry</td>\n",
       "      <td>Volt Absorb</td>\n",
       "      <td>'Nuzzle' 'Follow Me' 'Super Fang' 'Protect'</td>\n",
       "    </tr>\n",
       "    <tr>\n",
       "      <th>2</th>\n",
       "      <td>1.0</td>\n",
       "      <td>Gothitelle</td>\n",
       "      <td>Psyshock</td>\n",
       "      <td>Thunder Wave</td>\n",
       "      <td>Tickle</td>\n",
       "      <td>Protect</td>\n",
       "      <td>Calm</td>\n",
       "      <td>Leftovers</td>\n",
       "      <td>Shadow Tag</td>\n",
       "      <td>'Psyshock' 'Thunder Wave' 'Tickle' 'Protect'</td>\n",
       "    </tr>\n",
       "    <tr>\n",
       "      <th>3</th>\n",
       "      <td>1.0</td>\n",
       "      <td>Gardevoir</td>\n",
       "      <td>Dazzling Gleam</td>\n",
       "      <td>Psychic</td>\n",
       "      <td>Moonblast</td>\n",
       "      <td>Swagger</td>\n",
       "      <td>Timid</td>\n",
       "      <td>Choice Scarf</td>\n",
       "      <td>Telepathy</td>\n",
       "      <td>'Dazzling Gleam' 'Psychic' 'Moonblast' 'Swagger'</td>\n",
       "    </tr>\n",
       "    <tr>\n",
       "      <th>4</th>\n",
       "      <td>1.0</td>\n",
       "      <td>Gyarados</td>\n",
       "      <td>Dragon Dance</td>\n",
       "      <td>Waterfall</td>\n",
       "      <td>Earthquake</td>\n",
       "      <td>Protect</td>\n",
       "      <td>Adamant</td>\n",
       "      <td>Gyaradosite</td>\n",
       "      <td>Intimidate</td>\n",
       "      <td>'Dragon Dance' 'Waterfall' 'Earthquake' 'Protect'</td>\n",
       "    </tr>\n",
       "    <tr>\n",
       "      <th>5</th>\n",
       "      <td>1.0</td>\n",
       "      <td>Talonflame</td>\n",
       "      <td>Brave Bird</td>\n",
       "      <td>Overheat</td>\n",
       "      <td>Taunt</td>\n",
       "      <td>Quick Guard</td>\n",
       "      <td>Naive</td>\n",
       "      <td>Life Orb</td>\n",
       "      <td>Gale Wings</td>\n",
       "      <td>'Brave Bird' 'Overheat' 'Taunt' 'Quick Guard'</td>\n",
       "    </tr>\n",
       "  </tbody>\n",
       "</table>\n",
       "</div>"
      ],
      "text/plain": [
       "   team        name           move1         move2       move3        move4  \\\n",
       "1   1.0   Pachirisu          Nuzzle     Follow Me  Super Fang      Protect   \n",
       "2   1.0  Gothitelle        Psyshock  Thunder Wave      Tickle      Protect   \n",
       "3   1.0   Gardevoir  Dazzling Gleam       Psychic   Moonblast      Swagger   \n",
       "4   1.0    Gyarados    Dragon Dance     Waterfall  Earthquake      Protect   \n",
       "5   1.0  Talonflame      Brave Bird      Overheat       Taunt  Quick Guard   \n",
       "\n",
       "    nature     held_item      ability  \\\n",
       "1   Impish  Sitrus Berry  Volt Absorb   \n",
       "2     Calm     Leftovers   Shadow Tag   \n",
       "3    Timid  Choice Scarf    Telepathy   \n",
       "4  Adamant   Gyaradosite   Intimidate   \n",
       "5    Naive      Life Orb   Gale Wings   \n",
       "\n",
       "                                             moveset  \n",
       "1        'Nuzzle' 'Follow Me' 'Super Fang' 'Protect'  \n",
       "2       'Psyshock' 'Thunder Wave' 'Tickle' 'Protect'  \n",
       "3   'Dazzling Gleam' 'Psychic' 'Moonblast' 'Swagger'  \n",
       "4  'Dragon Dance' 'Waterfall' 'Earthquake' 'Protect'  \n",
       "5      'Brave Bird' 'Overheat' 'Taunt' 'Quick Guard'  "
      ]
     },
     "execution_count": 15,
     "metadata": {},
     "output_type": "execute_result"
    }
   ],
   "source": [
    "top_teams_clean.head()"
   ]
  },
  {
   "cell_type": "code",
   "execution_count": 16,
   "metadata": {
    "ExecuteTime": {
     "end_time": "2020-04-14T14:47:29.406539Z",
     "start_time": "2020-04-14T14:47:29.333734Z"
    }
   },
   "outputs": [],
   "source": [
    "move_list = (list(top_teams_clean.moveset))\n",
    "#print(move_list)"
   ]
  },
  {
   "cell_type": "code",
   "execution_count": 17,
   "metadata": {
    "ExecuteTime": {
     "end_time": "2020-04-14T14:47:29.491700Z",
     "start_time": "2020-04-14T14:47:29.408534Z"
    }
   },
   "outputs": [],
   "source": [
    "#competitive_movepool = []\n",
    "#pattern = \"\" \n",
    "#for name in top_teams_clean.name:\n",
    "    #top_teams_clean.moveset.str.strip(\"'\").split() if name == name\n",
    "    #return competitive_movepool.append()\n"
   ]
  },
  {
   "cell_type": "code",
   "execution_count": null,
   "metadata": {},
   "outputs": [],
   "source": []
  }
 ],
 "metadata": {
  "kernelspec": {
   "display_name": "Python 3",
   "language": "python",
   "name": "python3"
  },
  "language_info": {
   "codemirror_mode": {
    "name": "ipython",
    "version": 3
   },
   "file_extension": ".py",
   "mimetype": "text/x-python",
   "name": "python",
   "nbconvert_exporter": "python",
   "pygments_lexer": "ipython3",
   "version": "3.7.7"
  },
  "varInspector": {
   "cols": {
    "lenName": 16,
    "lenType": 16,
    "lenVar": 40
   },
   "kernels_config": {
    "python": {
     "delete_cmd_postfix": "",
     "delete_cmd_prefix": "del ",
     "library": "var_list.py",
     "varRefreshCmd": "print(var_dic_list())"
    },
    "r": {
     "delete_cmd_postfix": ") ",
     "delete_cmd_prefix": "rm(",
     "library": "var_list.r",
     "varRefreshCmd": "cat(var_dic_list()) "
    }
   },
   "types_to_exclude": [
    "module",
    "function",
    "builtin_function_or_method",
    "instance",
    "_Feature"
   ],
   "window_display": false
  }
 },
 "nbformat": 4,
 "nbformat_minor": 4
}

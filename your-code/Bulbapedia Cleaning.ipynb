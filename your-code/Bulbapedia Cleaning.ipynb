{
 "cells": [
  {
   "cell_type": "code",
   "execution_count": 1,
   "metadata": {
    "ExecuteTime": {
     "end_time": "2020-04-13T22:38:16.262297Z",
     "start_time": "2020-04-13T22:38:15.646147Z"
    }
   },
   "outputs": [],
   "source": [
    "import os\n",
    "import numpy as np\n",
    "import pandas as pd\n",
    "import re\n",
    "import math\n",
    "from bs4 import BeautifulSoup\n",
    "import requests\n",
    "pd.set_option('display.max_rows', None)"
   ]
  },
  {
   "cell_type": "code",
   "execution_count": 2,
   "metadata": {
    "ExecuteTime": {
     "end_time": "2020-04-13T22:38:16.504413Z",
     "start_time": "2020-04-13T22:38:16.278218Z"
    }
   },
   "outputs": [],
   "source": [
    "url1 = \"https://m.bulbapedia.bulbagarden.net/wiki/List_of_Pok%C3%A9mon_by_base_stats_(Generation_VIII-present)\""
   ]
  },
  {
   "cell_type": "code",
   "execution_count": 3,
   "metadata": {
    "ExecuteTime": {
     "end_time": "2020-04-13T22:38:17.496031Z",
     "start_time": "2020-04-13T22:38:16.518376Z"
    }
   },
   "outputs": [],
   "source": [
    "html = requests.get(url1).content\n",
    "soup = BeautifulSoup(html, \"lxml\")"
   ]
  },
  {
   "cell_type": "code",
   "execution_count": 4,
   "metadata": {
    "ExecuteTime": {
     "end_time": "2020-04-13T22:38:18.283181Z",
     "start_time": "2020-04-13T22:38:18.200295Z"
    }
   },
   "outputs": [],
   "source": [
    "table = soup.find_all(\"table\", {\"class\":\"sortable roundy\"})[0]"
   ]
  },
  {
   "cell_type": "code",
   "execution_count": 5,
   "metadata": {
    "ExecuteTime": {
     "end_time": "2020-04-13T22:38:19.628588Z",
     "start_time": "2020-04-13T22:38:19.582709Z"
    }
   },
   "outputs": [],
   "source": [
    "rows = table.find_all(\"tr\")\n",
    "rows = [row.text.strip().split(\"\\n\") for row in rows]\n",
    "rows = [list(filter(None,row)) for row in rows]\n",
    "bulbapedia_df = pd.DataFrame(rows)\n",
    "bulbapedia_df.columns = bulbapedia_df.iloc[0]\n",
    "bulbapedia_df = bulbapedia_df.drop([0])\n",
    "bulbapedia_df.columns = [\"#N.Dex\", \"pic\", \"Pokémon\", \"HP\", \"Attack\", \"Defense\",\n",
    "                         \"Sp. Attack\", \"Sp. Defense\", \"Speed\", \"Total\", \"Average\"]\n",
    "bulbapedia_df_clean=bulbapedia_df.drop([\"pic\"], axis=1)"
   ]
  },
  {
   "cell_type": "code",
   "execution_count": 6,
   "metadata": {
    "ExecuteTime": {
     "end_time": "2020-04-13T22:38:21.417652Z",
     "start_time": "2020-04-13T22:38:21.395711Z"
    }
   },
   "outputs": [
    {
     "data": {
      "text/html": [
       "<div>\n",
       "<style scoped>\n",
       "    .dataframe tbody tr th:only-of-type {\n",
       "        vertical-align: middle;\n",
       "    }\n",
       "\n",
       "    .dataframe tbody tr th {\n",
       "        vertical-align: top;\n",
       "    }\n",
       "\n",
       "    .dataframe thead th {\n",
       "        text-align: right;\n",
       "    }\n",
       "</style>\n",
       "<table border=\"1\" class=\"dataframe\">\n",
       "  <thead>\n",
       "    <tr style=\"text-align: right;\">\n",
       "      <th></th>\n",
       "      <th>#N.Dex</th>\n",
       "      <th>Pokémon</th>\n",
       "      <th>HP</th>\n",
       "      <th>Attack</th>\n",
       "      <th>Defense</th>\n",
       "      <th>Sp. Attack</th>\n",
       "      <th>Sp. Defense</th>\n",
       "      <th>Speed</th>\n",
       "      <th>Total</th>\n",
       "      <th>Average</th>\n",
       "    </tr>\n",
       "  </thead>\n",
       "  <tbody>\n",
       "    <tr>\n",
       "      <th>1</th>\n",
       "      <td>001</td>\n",
       "      <td>Bulbasaur</td>\n",
       "      <td>45</td>\n",
       "      <td>49</td>\n",
       "      <td>49</td>\n",
       "      <td>65</td>\n",
       "      <td>65</td>\n",
       "      <td>45</td>\n",
       "      <td>318</td>\n",
       "      <td>53</td>\n",
       "    </tr>\n",
       "    <tr>\n",
       "      <th>2</th>\n",
       "      <td>002</td>\n",
       "      <td>Ivysaur</td>\n",
       "      <td>60</td>\n",
       "      <td>62</td>\n",
       "      <td>63</td>\n",
       "      <td>80</td>\n",
       "      <td>80</td>\n",
       "      <td>60</td>\n",
       "      <td>405</td>\n",
       "      <td>67.5</td>\n",
       "    </tr>\n",
       "    <tr>\n",
       "      <th>3</th>\n",
       "      <td>003</td>\n",
       "      <td>Venusaur</td>\n",
       "      <td>80</td>\n",
       "      <td>82</td>\n",
       "      <td>83</td>\n",
       "      <td>100</td>\n",
       "      <td>100</td>\n",
       "      <td>80</td>\n",
       "      <td>525</td>\n",
       "      <td>87.5</td>\n",
       "    </tr>\n",
       "    <tr>\n",
       "      <th>4</th>\n",
       "      <td>003</td>\n",
       "      <td>Venusaur (Mega Venusaur)</td>\n",
       "      <td>80</td>\n",
       "      <td>100</td>\n",
       "      <td>123</td>\n",
       "      <td>122</td>\n",
       "      <td>120</td>\n",
       "      <td>80</td>\n",
       "      <td>625</td>\n",
       "      <td>104.17</td>\n",
       "    </tr>\n",
       "    <tr>\n",
       "      <th>5</th>\n",
       "      <td>004</td>\n",
       "      <td>Charmander</td>\n",
       "      <td>39</td>\n",
       "      <td>52</td>\n",
       "      <td>43</td>\n",
       "      <td>60</td>\n",
       "      <td>50</td>\n",
       "      <td>65</td>\n",
       "      <td>309</td>\n",
       "      <td>51.5</td>\n",
       "    </tr>\n",
       "  </tbody>\n",
       "</table>\n",
       "</div>"
      ],
      "text/plain": [
       "  #N.Dex                    Pokémon   HP Attack Defense Sp. Attack  \\\n",
       "1    001                  Bulbasaur   45     49      49         65   \n",
       "2    002                    Ivysaur   60     62      63         80   \n",
       "3    003                   Venusaur   80     82      83        100   \n",
       "4    003   Venusaur (Mega Venusaur)   80    100     123        122   \n",
       "5    004                 Charmander   39     52      43         60   \n",
       "\n",
       "  Sp. Defense Speed Total  Average  \n",
       "1          65    45   318       53  \n",
       "2          80    60   405     67.5  \n",
       "3         100    80   525     87.5  \n",
       "4         120    80   625   104.17  \n",
       "5          50    65   309     51.5  "
      ]
     },
     "execution_count": 6,
     "metadata": {},
     "output_type": "execute_result"
    }
   ],
   "source": [
    "bulbapedia_df_clean.head()"
   ]
  },
  {
   "cell_type": "code",
   "execution_count": 7,
   "metadata": {
    "ExecuteTime": {
     "end_time": "2020-04-13T22:38:23.160990Z",
     "start_time": "2020-04-13T22:38:23.154009Z"
    }
   },
   "outputs": [
    {
     "data": {
      "text/plain": [
       "#N.Dex         object\n",
       "Pokémon        object\n",
       "HP             object\n",
       "Attack         object\n",
       "Defense        object\n",
       "Sp. Attack     object\n",
       "Sp. Defense    object\n",
       "Speed          object\n",
       "Total          object\n",
       "Average        object\n",
       "dtype: object"
      ]
     },
     "execution_count": 7,
     "metadata": {},
     "output_type": "execute_result"
    }
   ],
   "source": [
    "bulbapedia_df_clean.dtypes"
   ]
  },
  {
   "cell_type": "code",
   "execution_count": 8,
   "metadata": {
    "ExecuteTime": {
     "end_time": "2020-04-13T22:38:24.850425Z",
     "start_time": "2020-04-13T22:38:24.838451Z"
    }
   },
   "outputs": [],
   "source": [
    "columns=[\"HP\", \"Attack\", \"Defense\",\"Sp. Attack\",\n",
    "         \"Sp. Defense\", \"Speed\", \"Total\", \"Average\"]\n",
    "for column in columns:\n",
    "    bulbapedia_df_clean[column]= bulbapedia_df_clean[column].astype(float)"
   ]
  },
  {
   "cell_type": "code",
   "execution_count": 9,
   "metadata": {
    "ExecuteTime": {
     "end_time": "2020-04-13T22:38:26.587535Z",
     "start_time": "2020-04-13T22:38:26.579555Z"
    }
   },
   "outputs": [
    {
     "name": "stdout",
     "output_type": "stream",
     "text": [
      "Are there any missing values? : #N.Dex         False\n",
      "Pokémon        False\n",
      "HP             False\n",
      "Attack         False\n",
      "Defense        False\n",
      "Sp. Attack     False\n",
      "Sp. Defense    False\n",
      "Speed          False\n",
      "Total          False\n",
      "Average        False\n",
      "dtype: bool\n"
     ]
    }
   ],
   "source": [
    "print(\"Are there any missing values? :\",bulbapedia_df_clean.isnull().any())"
   ]
  },
  {
   "cell_type": "code",
   "execution_count": 10,
   "metadata": {
    "ExecuteTime": {
     "end_time": "2020-04-13T22:38:28.384885Z",
     "start_time": "2020-04-13T22:38:28.374932Z"
    }
   },
   "outputs": [
    {
     "name": "stdout",
     "output_type": "stream",
     "text": [
      "Are there duplicated values? : False\n"
     ]
    }
   ],
   "source": [
    "print(\"Are there duplicated values? :\",bulbapedia_df_clean.duplicated().any())"
   ]
  },
  {
   "cell_type": "code",
   "execution_count": 30,
   "metadata": {
    "ExecuteTime": {
     "end_time": "2020-04-13T22:45:57.568669Z",
     "start_time": "2020-04-13T22:45:55.082313Z"
    }
   },
   "outputs": [],
   "source": [
    "for row in bulbapedia_df_clean[\"Pokémon\"]:\n",
    "    bulbapedia_df_clean[\"Pokémon\"]= bulbapedia_df_clean[\"Pokémon\"].replace(\" Landorus (Therian Forme)\",\"Landorus\").astype(str)\n",
    "    bulbapedia_df_clean[\"Pokémon\"]= bulbapedia_df_clean[\"Pokémon\"].replace(\" Thundurus (Therian Forme)\",\"Thundurus\").astype(str)\n",
    "    bulbapedia_df_clean[\"Pokémon\"]= bulbapedia_df_clean[\"Pokémon\"].replace(\" Aegislash (Shield Forme)\",\"Aegislash\").astype(str)\n",
    "    bulbapedia_df_clean[\"Pokémon\"]= bulbapedia_df_clean[\"Pokémon\"].replace(\" Tornadus (Therian Forme)\",\"Tornadus\").astype(str)\n",
    "    bulbapedia_df_clean[\"Pokémon\"]= bulbapedia_df_clean[\"Pokémon\"].replace(\" Kyurem (Normal Kyurem)\",\"Kyurem\").astype(str)"
   ]
  },
  {
   "cell_type": "code",
   "execution_count": 32,
   "metadata": {
    "ExecuteTime": {
     "end_time": "2020-04-13T22:46:32.390714Z",
     "start_time": "2020-04-13T22:46:32.374720Z"
    }
   },
   "outputs": [],
   "source": [
    "bulbapedia_df_clean.to_csv(\"./data/bulbapedia_clean.csv\",index=False)"
   ]
  },
  {
   "cell_type": "code",
   "execution_count": null,
   "metadata": {},
   "outputs": [],
   "source": []
  }
 ],
 "metadata": {
  "kernelspec": {
   "display_name": "Python 3",
   "language": "python",
   "name": "python3"
  },
  "language_info": {
   "codemirror_mode": {
    "name": "ipython",
    "version": 3
   },
   "file_extension": ".py",
   "mimetype": "text/x-python",
   "name": "python",
   "nbconvert_exporter": "python",
   "pygments_lexer": "ipython3",
   "version": "3.7.7"
  },
  "varInspector": {
   "cols": {
    "lenName": 16,
    "lenType": 16,
    "lenVar": 40
   },
   "kernels_config": {
    "python": {
     "delete_cmd_postfix": "",
     "delete_cmd_prefix": "del ",
     "library": "var_list.py",
     "varRefreshCmd": "print(var_dic_list())"
    },
    "r": {
     "delete_cmd_postfix": ") ",
     "delete_cmd_prefix": "rm(",
     "library": "var_list.r",
     "varRefreshCmd": "cat(var_dic_list()) "
    }
   },
   "types_to_exclude": [
    "module",
    "function",
    "builtin_function_or_method",
    "instance",
    "_Feature"
   ],
   "window_display": false
  }
 },
 "nbformat": 4,
 "nbformat_minor": 4
}
